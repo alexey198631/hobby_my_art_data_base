{
 "cells": [
  {
   "cell_type": "code",
   "execution_count": 23,
   "id": "c574a68b",
   "metadata": {},
   "outputs": [],
   "source": [
    "\"\"\"\n",
    "['START', 'DATE', 'DAYS', 'TYPE', 'AWARD', 'LANG', 'TIMES', 'NAME',\n",
    "       'YEAR', 'FACT_DURATION', 'ACTIVITY', 'DURATION', 'CREATOR', 'WHERE',\n",
    "       'COUNTRY', 'PTS', 'COMMENTS']\n",
    "\"\"\"\n",
    "\n",
    "import pandas as pd\n",
    "import json\n",
    "import seaborn as sns\n",
    "\n",
    "art = pd.read_excel('data_files/Days.xlsx', sheet_name='art')"
   ]
  },
  {
   "cell_type": "code",
   "execution_count": 24,
   "id": "c1ec0e4c",
   "metadata": {},
   "outputs": [],
   "source": [
    "art_test = art.dropna(subset='DATE')"
   ]
  },
  {
   "cell_type": "code",
   "execution_count": 25,
   "id": "35cc6f26",
   "metadata": {},
   "outputs": [
    {
     "data": {
      "text/plain": [
       "3656"
      ]
     },
     "execution_count": 25,
     "metadata": {},
     "output_type": "execute_result"
    }
   ],
   "source": [
    "len(art_test)"
   ]
  },
  {
   "cell_type": "code",
   "execution_count": 20,
   "id": "37c71189",
   "metadata": {},
   "outputs": [],
   "source": [
    "result = art_test.to_json(orient=\"table\")"
   ]
  },
  {
   "cell_type": "code",
   "execution_count": 27,
   "id": "4a859dba",
   "metadata": {},
   "outputs": [],
   "source": [
    "with open(\"data_files/sample.json\", \"w\") as outfile:\n",
    "    outfile.write(result)"
   ]
  },
  {
   "cell_type": "code",
   "execution_count": 26,
   "id": "90a76455",
   "metadata": {},
   "outputs": [
    {
     "ename": "AttributeError",
     "evalue": "module 'seaborn' has no attribute 'to_json'",
     "output_type": "error",
     "traceback": [
      "\u001b[0;31m---------------------------------------------------------------------------\u001b[0m",
      "\u001b[0;31mAttributeError\u001b[0m                            Traceback (most recent call last)",
      "Input \u001b[0;32mIn [26]\u001b[0m, in \u001b[0;36m<cell line: 1>\u001b[0;34m()\u001b[0m\n\u001b[0;32m----> 1\u001b[0m \u001b[43msns\u001b[49m\u001b[38;5;241;43m.\u001b[39;49m\u001b[43mto_json\u001b[49m(\u001b[38;5;124m'\u001b[39m\u001b[38;5;124mdata_files/tips.json\u001b[39m\u001b[38;5;124m'\u001b[39m)\n",
      "\u001b[0;31mAttributeError\u001b[0m: module 'seaborn' has no attribute 'to_json'"
     ]
    }
   ],
   "source": [
    "sns.to_json('data_files/tips.json')"
   ]
  },
  {
   "cell_type": "code",
   "execution_count": null,
   "id": "12ad7913",
   "metadata": {},
   "outputs": [],
   "source": []
  }
 ],
 "metadata": {
  "kernelspec": {
   "display_name": "Python 3 (ipykernel)",
   "language": "python",
   "name": "python3"
  },
  "language_info": {
   "codemirror_mode": {
    "name": "ipython",
    "version": 3
   },
   "file_extension": ".py",
   "mimetype": "text/x-python",
   "name": "python",
   "nbconvert_exporter": "python",
   "pygments_lexer": "ipython3",
   "version": "3.9.12"
  }
 },
 "nbformat": 4,
 "nbformat_minor": 5
}
