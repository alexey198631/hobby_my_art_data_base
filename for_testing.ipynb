{
 "cells": [
  {
   "cell_type": "code",
   "execution_count": 23,
   "id": "c8b8b71c",
   "metadata": {},
   "outputs": [],
   "source": [
    "\"\"\"\n",
    "['START', 'DATE', 'DAYS', 'TYPE', 'AWARD', 'LANG', 'TIMES', 'NAME',\n",
    "       'YEAR', 'FACT_DURATION', 'ACTIVITY', 'DURATION', 'CREATOR', 'WHERE',\n",
    "       'COUNTRY', 'PTS', 'COMMENTS']\n",
    "\"\"\"\n",
    "\n",
    "import pandas as pd\n",
    "import json\n",
    "import seaborn as sns\n",
    "\n",
    "art = pd.read_excel('data_files/Days.xlsx', sheet_name='art')"
   ]
  },
  {
   "cell_type": "code",
   "execution_count": 24,
   "id": "1f63ec62",
   "metadata": {},
   "outputs": [],
   "source": [
    "art_test = art.dropna(subset='DATE')"
   ]
  }
 ],
 "metadata": {
  "kernelspec": {
   "display_name": "Python 3 (ipykernel)",
   "language": "python",
   "name": "python3"
  },
  "language_info": {
   "codemirror_mode": {
    "name": "ipython",
    "version": 3
   },
   "file_extension": ".py",
   "mimetype": "text/x-python",
   "name": "python",
   "nbconvert_exporter": "python",
   "pygments_lexer": "ipython3",
   "version": "3.9.12"
  }
 },
 "nbformat": 4,
 "nbformat_minor": 5
}
